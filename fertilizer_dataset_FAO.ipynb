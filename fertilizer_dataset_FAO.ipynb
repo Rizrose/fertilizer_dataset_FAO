{
 "cells": [
  {
   "cell_type": "code",
   "execution_count": null,
   "metadata": {},
   "outputs": [],
   "source": [
    "import seaborn as sns\n",
    "import pandas as pd\n",
    "import numpy as np\n",
    "import matplotlib.pyplot as plt\n",
    "\n",
    "fer = pd.read_csv('fertilizer.csv')\n",
    "fer.head()\n"
   ]
  },
  {
   "cell_type": "code",
   "execution_count": 56,
   "metadata": {},
   "outputs": [],
   "source": [
    "\n",
    "tip=sns.load_dataset('tips')\n",
    "# sns.boxplot(x='day',y='tip',data=tips)\n",
    "\n",
    "plt.show()\n"
   ]
  },
  {
   "cell_type": "code",
   "execution_count": 59,
   "metadata": {},
   "outputs": [
    {
     "ename": "ValueError",
     "evalue": "Could not interpret input 'Item'",
     "output_type": "error",
     "traceback": [
      "\u001b[1;31m---------------------------------------------------------------------------\u001b[0m",
      "\u001b[1;31mValueError\u001b[0m                                Traceback (most recent call last)",
      "\u001b[1;32mc:\\Users\\Rizwan\\Desktop\\FAO\\fertilizer_dataset_FAO.ipynb Cell 3'\u001b[0m in \u001b[0;36m<cell line: 5>\u001b[1;34m()\u001b[0m\n\u001b[0;32m      <a href='vscode-notebook-cell:/c%3A/Users/Rizwan/Desktop/FAO/fertilizer_dataset_FAO.ipynb#ch0000014?line=2'>3</a>\u001b[0m rose \u001b[39m=\u001b[39m pd\u001b[39m.\u001b[39mread_csv(\u001b[39m'\u001b[39m\u001b[39mfertilizer.csv\u001b[39m\u001b[39m'\u001b[39m)\n\u001b[0;32m      <a href='vscode-notebook-cell:/c%3A/Users/Rizwan/Desktop/FAO/fertilizer_dataset_FAO.ipynb#ch0000014?line=3'>4</a>\u001b[0m \u001b[39m# Draw a Barplot\u001b[39;00m\n\u001b[1;32m----> <a href='vscode-notebook-cell:/c%3A/Users/Rizwan/Desktop/FAO/fertilizer_dataset_FAO.ipynb#ch0000014?line=4'>5</a>\u001b[0m sns\u001b[39m.\u001b[39;49mbarplot(x \u001b[39m=\u001b[39;49m\u001b[39m\"\u001b[39;49m\u001b[39mItem\u001b[39;49m\u001b[39m\"\u001b[39;49m, y\u001b[39m=\u001b[39;49m \u001b[39m\"\u001b[39;49m\u001b[39mValue\u001b[39;49m\u001b[39m\"\u001b[39;49m,data \u001b[39m=\u001b[39;49m phool)\n\u001b[0;32m      <a href='vscode-notebook-cell:/c%3A/Users/Rizwan/Desktop/FAO/fertilizer_dataset_FAO.ipynb#ch0000014?line=5'>6</a>\u001b[0m \u001b[39m# Show Plot\u001b[39;00m\n\u001b[0;32m      <a href='vscode-notebook-cell:/c%3A/Users/Rizwan/Desktop/FAO/fertilizer_dataset_FAO.ipynb#ch0000014?line=6'>7</a>\u001b[0m plt\u001b[39m.\u001b[39mshow()\n",
      "File \u001b[1;32mc:\\Users\\Rizwan\\AppData\\Local\\Programs\\Python\\Python310\\lib\\site-packages\\seaborn\\_decorators.py:46\u001b[0m, in \u001b[0;36m_deprecate_positional_args.<locals>.inner_f\u001b[1;34m(*args, **kwargs)\u001b[0m\n\u001b[0;32m     <a href='file:///c%3A/Users/Rizwan/AppData/Local/Programs/Python/Python310/lib/site-packages/seaborn/_decorators.py?line=35'>36</a>\u001b[0m     warnings\u001b[39m.\u001b[39mwarn(\n\u001b[0;32m     <a href='file:///c%3A/Users/Rizwan/AppData/Local/Programs/Python/Python310/lib/site-packages/seaborn/_decorators.py?line=36'>37</a>\u001b[0m         \u001b[39m\"\u001b[39m\u001b[39mPass the following variable\u001b[39m\u001b[39m{}\u001b[39;00m\u001b[39m as \u001b[39m\u001b[39m{}\u001b[39;00m\u001b[39mkeyword arg\u001b[39m\u001b[39m{}\u001b[39;00m\u001b[39m: \u001b[39m\u001b[39m{}\u001b[39;00m\u001b[39m. \u001b[39m\u001b[39m\"\u001b[39m\n\u001b[0;32m     <a href='file:///c%3A/Users/Rizwan/AppData/Local/Programs/Python/Python310/lib/site-packages/seaborn/_decorators.py?line=37'>38</a>\u001b[0m         \u001b[39m\"\u001b[39m\u001b[39mFrom version 0.12, the only valid positional argument \u001b[39m\u001b[39m\"\u001b[39m\n\u001b[1;32m   (...)\u001b[0m\n\u001b[0;32m     <a href='file:///c%3A/Users/Rizwan/AppData/Local/Programs/Python/Python310/lib/site-packages/seaborn/_decorators.py?line=42'>43</a>\u001b[0m         \u001b[39mFutureWarning\u001b[39;00m\n\u001b[0;32m     <a href='file:///c%3A/Users/Rizwan/AppData/Local/Programs/Python/Python310/lib/site-packages/seaborn/_decorators.py?line=43'>44</a>\u001b[0m     )\n\u001b[0;32m     <a href='file:///c%3A/Users/Rizwan/AppData/Local/Programs/Python/Python310/lib/site-packages/seaborn/_decorators.py?line=44'>45</a>\u001b[0m kwargs\u001b[39m.\u001b[39mupdate({k: arg \u001b[39mfor\u001b[39;00m k, arg \u001b[39min\u001b[39;00m \u001b[39mzip\u001b[39m(sig\u001b[39m.\u001b[39mparameters, args)})\n\u001b[1;32m---> <a href='file:///c%3A/Users/Rizwan/AppData/Local/Programs/Python/Python310/lib/site-packages/seaborn/_decorators.py?line=45'>46</a>\u001b[0m \u001b[39mreturn\u001b[39;00m f(\u001b[39m*\u001b[39m\u001b[39m*\u001b[39mkwargs)\n",
      "File \u001b[1;32mc:\\Users\\Rizwan\\AppData\\Local\\Programs\\Python\\Python310\\lib\\site-packages\\seaborn\\categorical.py:3182\u001b[0m, in \u001b[0;36mbarplot\u001b[1;34m(x, y, hue, data, order, hue_order, estimator, ci, n_boot, units, seed, orient, color, palette, saturation, errcolor, errwidth, capsize, dodge, ax, **kwargs)\u001b[0m\n\u001b[0;32m   <a href='file:///c%3A/Users/Rizwan/AppData/Local/Programs/Python/Python310/lib/site-packages/seaborn/categorical.py?line=3168'>3169</a>\u001b[0m \u001b[39m@_deprecate_positional_args\u001b[39m\n\u001b[0;32m   <a href='file:///c%3A/Users/Rizwan/AppData/Local/Programs/Python/Python310/lib/site-packages/seaborn/categorical.py?line=3169'>3170</a>\u001b[0m \u001b[39mdef\u001b[39;00m \u001b[39mbarplot\u001b[39m(\n\u001b[0;32m   <a href='file:///c%3A/Users/Rizwan/AppData/Local/Programs/Python/Python310/lib/site-packages/seaborn/categorical.py?line=3170'>3171</a>\u001b[0m     \u001b[39m*\u001b[39m,\n\u001b[1;32m   (...)\u001b[0m\n\u001b[0;32m   <a href='file:///c%3A/Users/Rizwan/AppData/Local/Programs/Python/Python310/lib/site-packages/seaborn/categorical.py?line=3178'>3179</a>\u001b[0m     \u001b[39m*\u001b[39m\u001b[39m*\u001b[39mkwargs,\n\u001b[0;32m   <a href='file:///c%3A/Users/Rizwan/AppData/Local/Programs/Python/Python310/lib/site-packages/seaborn/categorical.py?line=3179'>3180</a>\u001b[0m ):\n\u001b[1;32m-> <a href='file:///c%3A/Users/Rizwan/AppData/Local/Programs/Python/Python310/lib/site-packages/seaborn/categorical.py?line=3181'>3182</a>\u001b[0m     plotter \u001b[39m=\u001b[39m _BarPlotter(x, y, hue, data, order, hue_order,\n\u001b[0;32m   <a href='file:///c%3A/Users/Rizwan/AppData/Local/Programs/Python/Python310/lib/site-packages/seaborn/categorical.py?line=3182'>3183</a>\u001b[0m                           estimator, ci, n_boot, units, seed,\n\u001b[0;32m   <a href='file:///c%3A/Users/Rizwan/AppData/Local/Programs/Python/Python310/lib/site-packages/seaborn/categorical.py?line=3183'>3184</a>\u001b[0m                           orient, color, palette, saturation,\n\u001b[0;32m   <a href='file:///c%3A/Users/Rizwan/AppData/Local/Programs/Python/Python310/lib/site-packages/seaborn/categorical.py?line=3184'>3185</a>\u001b[0m                           errcolor, errwidth, capsize, dodge)\n\u001b[0;32m   <a href='file:///c%3A/Users/Rizwan/AppData/Local/Programs/Python/Python310/lib/site-packages/seaborn/categorical.py?line=3186'>3187</a>\u001b[0m     \u001b[39mif\u001b[39;00m ax \u001b[39mis\u001b[39;00m \u001b[39mNone\u001b[39;00m:\n\u001b[0;32m   <a href='file:///c%3A/Users/Rizwan/AppData/Local/Programs/Python/Python310/lib/site-packages/seaborn/categorical.py?line=3187'>3188</a>\u001b[0m         ax \u001b[39m=\u001b[39m plt\u001b[39m.\u001b[39mgca()\n",
      "File \u001b[1;32mc:\\Users\\Rizwan\\AppData\\Local\\Programs\\Python\\Python310\\lib\\site-packages\\seaborn\\categorical.py:1584\u001b[0m, in \u001b[0;36m_BarPlotter.__init__\u001b[1;34m(self, x, y, hue, data, order, hue_order, estimator, ci, n_boot, units, seed, orient, color, palette, saturation, errcolor, errwidth, capsize, dodge)\u001b[0m\n\u001b[0;32m   <a href='file:///c%3A/Users/Rizwan/AppData/Local/Programs/Python/Python310/lib/site-packages/seaborn/categorical.py?line=1578'>1579</a>\u001b[0m \u001b[39mdef\u001b[39;00m \u001b[39m__init__\u001b[39m(\u001b[39mself\u001b[39m, x, y, hue, data, order, hue_order,\n\u001b[0;32m   <a href='file:///c%3A/Users/Rizwan/AppData/Local/Programs/Python/Python310/lib/site-packages/seaborn/categorical.py?line=1579'>1580</a>\u001b[0m              estimator, ci, n_boot, units, seed,\n\u001b[0;32m   <a href='file:///c%3A/Users/Rizwan/AppData/Local/Programs/Python/Python310/lib/site-packages/seaborn/categorical.py?line=1580'>1581</a>\u001b[0m              orient, color, palette, saturation, errcolor,\n\u001b[0;32m   <a href='file:///c%3A/Users/Rizwan/AppData/Local/Programs/Python/Python310/lib/site-packages/seaborn/categorical.py?line=1581'>1582</a>\u001b[0m              errwidth, capsize, dodge):\n\u001b[0;32m   <a href='file:///c%3A/Users/Rizwan/AppData/Local/Programs/Python/Python310/lib/site-packages/seaborn/categorical.py?line=1582'>1583</a>\u001b[0m     \u001b[39m\"\"\"Initialize the plotter.\"\"\"\u001b[39;00m\n\u001b[1;32m-> <a href='file:///c%3A/Users/Rizwan/AppData/Local/Programs/Python/Python310/lib/site-packages/seaborn/categorical.py?line=1583'>1584</a>\u001b[0m     \u001b[39mself\u001b[39;49m\u001b[39m.\u001b[39;49mestablish_variables(x, y, hue, data, orient,\n\u001b[0;32m   <a href='file:///c%3A/Users/Rizwan/AppData/Local/Programs/Python/Python310/lib/site-packages/seaborn/categorical.py?line=1584'>1585</a>\u001b[0m                              order, hue_order, units)\n\u001b[0;32m   <a href='file:///c%3A/Users/Rizwan/AppData/Local/Programs/Python/Python310/lib/site-packages/seaborn/categorical.py?line=1585'>1586</a>\u001b[0m     \u001b[39mself\u001b[39m\u001b[39m.\u001b[39mestablish_colors(color, palette, saturation)\n\u001b[0;32m   <a href='file:///c%3A/Users/Rizwan/AppData/Local/Programs/Python/Python310/lib/site-packages/seaborn/categorical.py?line=1586'>1587</a>\u001b[0m     \u001b[39mself\u001b[39m\u001b[39m.\u001b[39mestimate_statistic(estimator, ci, n_boot, seed)\n",
      "File \u001b[1;32mc:\\Users\\Rizwan\\AppData\\Local\\Programs\\Python\\Python310\\lib\\site-packages\\seaborn\\categorical.py:153\u001b[0m, in \u001b[0;36m_CategoricalPlotter.establish_variables\u001b[1;34m(self, x, y, hue, data, orient, order, hue_order, units)\u001b[0m\n\u001b[0;32m    <a href='file:///c%3A/Users/Rizwan/AppData/Local/Programs/Python/Python310/lib/site-packages/seaborn/categorical.py?line=150'>151</a>\u001b[0m     \u001b[39mif\u001b[39;00m \u001b[39misinstance\u001b[39m(var, \u001b[39mstr\u001b[39m):\n\u001b[0;32m    <a href='file:///c%3A/Users/Rizwan/AppData/Local/Programs/Python/Python310/lib/site-packages/seaborn/categorical.py?line=151'>152</a>\u001b[0m         err \u001b[39m=\u001b[39m \u001b[39m\"\u001b[39m\u001b[39mCould not interpret input \u001b[39m\u001b[39m'\u001b[39m\u001b[39m{}\u001b[39;00m\u001b[39m'\u001b[39m\u001b[39m\"\u001b[39m\u001b[39m.\u001b[39mformat(var)\n\u001b[1;32m--> <a href='file:///c%3A/Users/Rizwan/AppData/Local/Programs/Python/Python310/lib/site-packages/seaborn/categorical.py?line=152'>153</a>\u001b[0m         \u001b[39mraise\u001b[39;00m \u001b[39mValueError\u001b[39;00m(err)\n\u001b[0;32m    <a href='file:///c%3A/Users/Rizwan/AppData/Local/Programs/Python/Python310/lib/site-packages/seaborn/categorical.py?line=154'>155</a>\u001b[0m \u001b[39m# Figure out the plotting orientation\u001b[39;00m\n\u001b[0;32m    <a href='file:///c%3A/Users/Rizwan/AppData/Local/Programs/Python/Python310/lib/site-packages/seaborn/categorical.py?line=155'>156</a>\u001b[0m orient \u001b[39m=\u001b[39m infer_orient(\n\u001b[0;32m    <a href='file:///c%3A/Users/Rizwan/AppData/Local/Programs/Python/Python310/lib/site-packages/seaborn/categorical.py?line=156'>157</a>\u001b[0m     x, y, orient, require_numeric\u001b[39m=\u001b[39m\u001b[39mself\u001b[39m\u001b[39m.\u001b[39mrequire_numeric\n\u001b[0;32m    <a href='file:///c%3A/Users/Rizwan/AppData/Local/Programs/Python/Python310/lib/site-packages/seaborn/categorical.py?line=157'>158</a>\u001b[0m )\n",
      "\u001b[1;31mValueError\u001b[0m: Could not interpret input 'Item'"
     ]
    }
   ],
   "source": [
    "\n",
    "# load data_set\n",
    "phool=sns.load_dataset('iris')\n",
    "rose = pd.read_csv('fertilizer.csv')\n",
    "# Draw a Barplot\n",
    "sns.barplot(x =\"Item\", y= \"Value\",data = phool)\n",
    "# Show Plot\n",
    "plt.show()"
   ]
  },
  {
   "cell_type": "code",
   "execution_count": null,
   "metadata": {},
   "outputs": [],
   "source": [
    "fer.value_counts('Area') # how many times Pakistan write"
   ]
  },
  {
   "cell_type": "code",
   "execution_count": null,
   "metadata": {},
   "outputs": [],
   "source": [
    "fer.head()\n",
    "fer.describe()\n"
   ]
  },
  {
   "cell_type": "code",
   "execution_count": null,
   "metadata": {},
   "outputs": [],
   "source": [
    "new_fer = fer.drop(['Item','Flag'],axis = 1)\n",
    "new_fer"
   ]
  },
  {
   "cell_type": "code",
   "execution_count": null,
   "metadata": {},
   "outputs": [],
   "source": [
    "new_fer.loc['1':'5',['Area','Value']]"
   ]
  },
  {
   "cell_type": "code",
   "execution_count": null,
   "metadata": {},
   "outputs": [],
   "source": [
    "# error face krni pad rahi hai\n",
    "# new_fer.loc[['1','5'],['Area','Value']]"
   ]
  },
  {
   "cell_type": "code",
   "execution_count": null,
   "metadata": {},
   "outputs": [],
   "source": [
    "new_fer[new_fer['Year']>2000].groupby(['Element','Year','Value']).mean().head()"
   ]
  },
  {
   "cell_type": "code",
   "execution_count": null,
   "metadata": {},
   "outputs": [],
   "source": [
    "new_fer.iloc[3,4]"
   ]
  },
  {
   "cell_type": "code",
   "execution_count": null,
   "metadata": {},
   "outputs": [],
   "source": [
    "# Sort by value\n",
    "new_fer.sort_values('Value')"
   ]
  },
  {
   "cell_type": "code",
   "execution_count": null,
   "metadata": {},
   "outputs": [],
   "source": [
    "# Sort by index in ascending order\n",
    "new_fer.sort_index(axis=1,ascending=True)"
   ]
  },
  {
   "cell_type": "code",
   "execution_count": null,
   "metadata": {},
   "outputs": [],
   "source": [
    "# Sort by index in discending order\n",
    "new_fer.sort_index(axis=0,ascending=False)"
   ]
  },
  {
   "cell_type": "code",
   "execution_count": null,
   "metadata": {},
   "outputs": [],
   "source": [
    "fer.sort_values('Value')"
   ]
  },
  {
   "cell_type": "code",
   "execution_count": null,
   "metadata": {},
   "outputs": [],
   "source": []
  },
  {
   "cell_type": "code",
   "execution_count": null,
   "metadata": {},
   "outputs": [],
   "source": []
  }
 ],
 "metadata": {
  "interpreter": {
   "hash": "34ff2552038f30e71b27df0523857ebe90e61ecd0d314923bde3f836062fb2c4"
  },
  "kernelspec": {
   "display_name": "Python 3.10.2 64-bit",
   "language": "python",
   "name": "python3"
  },
  "language_info": {
   "codemirror_mode": {
    "name": "ipython",
    "version": 3
   },
   "file_extension": ".py",
   "mimetype": "text/x-python",
   "name": "python",
   "nbconvert_exporter": "python",
   "pygments_lexer": "ipython3",
   "version": "3.10.2"
  },
  "orig_nbformat": 4
 },
 "nbformat": 4,
 "nbformat_minor": 2
}
